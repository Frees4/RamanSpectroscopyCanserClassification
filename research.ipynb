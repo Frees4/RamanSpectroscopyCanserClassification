{
 "cells": [
  {
   "cell_type": "markdown",
   "metadata": {
    "colab": {
     "base_uri": "https://localhost:8080/"
    },
    "id": "mckzLvzkCfh0",
    "outputId": "69cca314-318c-4e44-d067-4e2db48b2c59"
   },
   "source": [
    "# !unzip data_input4.zip"
   ]
  },
  {
   "cell_type": "code",
   "execution_count": 1,
   "metadata": {
    "colab": {
     "base_uri": "https://localhost:8080/"
    },
    "id": "3GL4UGoA6ufO",
    "outputId": "976d42ee-c315-4b53-919a-8714edd9a1f2"
   },
   "outputs": [
    {
     "name": "stdout",
     "output_type": "stream",
     "text": [
      "Looking in indexes: https://pypi.org/simple, https://us-python.pkg.dev/colab-wheels/public/simple/\n",
      "Collecting catboost\n",
      "  Downloading catboost-1.1.1-cp38-none-manylinux1_x86_64.whl (76.6 MB)\n",
      "\u001b[K     |████████████████████████████████| 76.6 MB 1.1 MB/s \n",
      "\u001b[?25hRequirement already satisfied: six in /usr/local/lib/python3.8/dist-packages (from catboost) (1.15.0)\n",
      "Requirement already satisfied: scipy in /usr/local/lib/python3.8/dist-packages (from catboost) (1.7.3)\n",
      "Requirement already satisfied: numpy>=1.16.0 in /usr/local/lib/python3.8/dist-packages (from catboost) (1.21.6)\n",
      "Requirement already satisfied: matplotlib in /usr/local/lib/python3.8/dist-packages (from catboost) (3.2.2)\n",
      "Requirement already satisfied: pandas>=0.24.0 in /usr/local/lib/python3.8/dist-packages (from catboost) (1.3.5)\n",
      "Requirement already satisfied: plotly in /usr/local/lib/python3.8/dist-packages (from catboost) (5.5.0)\n",
      "Requirement already satisfied: graphviz in /usr/local/lib/python3.8/dist-packages (from catboost) (0.10.1)\n",
      "Requirement already satisfied: python-dateutil>=2.7.3 in /usr/local/lib/python3.8/dist-packages (from pandas>=0.24.0->catboost) (2.8.2)\n",
      "Requirement already satisfied: pytz>=2017.3 in /usr/local/lib/python3.8/dist-packages (from pandas>=0.24.0->catboost) (2022.6)\n",
      "Requirement already satisfied: cycler>=0.10 in /usr/local/lib/python3.8/dist-packages (from matplotlib->catboost) (0.11.0)\n",
      "Requirement already satisfied: pyparsing!=2.0.4,!=2.1.2,!=2.1.6,>=2.0.1 in /usr/local/lib/python3.8/dist-packages (from matplotlib->catboost) (3.0.9)\n",
      "Requirement already satisfied: kiwisolver>=1.0.1 in /usr/local/lib/python3.8/dist-packages (from matplotlib->catboost) (1.4.4)\n",
      "Requirement already satisfied: tenacity>=6.2.0 in /usr/local/lib/python3.8/dist-packages (from plotly->catboost) (8.1.0)\n",
      "Installing collected packages: catboost\n",
      "Successfully installed catboost-1.1.1\n"
     ]
    }
   ],
   "source": [
    "!pip install catboost"
   ]
  },
  {
   "cell_type": "code",
   "execution_count": 3,
   "metadata": {
    "id": "LUBMqya6BoV1"
   },
   "outputs": [],
   "source": [
    "import pandas as pd\n",
    "import matplotlib.pyplot as plt\n",
    "import numpy as np\n",
    "import os\n",
    "import keras\n",
    "from keras.models import Sequential\n",
    "from keras.layers import Flatten, Dense, Lambda\n",
    "from keras.layers import Convolution2D\n",
    "from keras.layers.pooling import MaxPooling2D\n",
    "from keras.layers import Cropping2D\n",
    "from keras.layers.core import Dense, Dropout, Activation\n",
    "from keras.layers import Dense, Conv1D, Flatten, MaxPooling1D\n",
    "from keras import regularizers\n",
    "from keras.layers import BatchNormalization\n",
    "from keras.utils import np_utils\n",
    "from keras.utils import plot_model\n",
    "import graphviz, pydot, pydotplus\n",
    "from sklearn.model_selection import train_test_split\n",
    "import tensorflow as tf"
   ]
  },
  {
   "cell_type": "code",
   "execution_count": 4,
   "metadata": {
    "id": "GB8bqcqfGt_X"
   },
   "outputs": [],
   "source": [
    "import os\n",
    "os.environ[\"CUDA_VISIBLE_DEVICES\"]=\"0,1\""
   ]
  },
  {
   "cell_type": "code",
   "execution_count": 5,
   "metadata": {
    "colab": {
     "base_uri": "https://localhost:8080/"
    },
    "id": "wuPqqL9_CTld",
    "outputId": "20c965cb-71e3-4c18-c64d-2b62334d1db6"
   },
   "outputs": [
    {
     "name": "stdout",
     "output_type": "stream",
     "text": [
      "Num GPUs Available:  1\n"
     ]
    }
   ],
   "source": [
    "print(\"Num GPUs Available: \", len(tf.config.list_physical_devices('GPU')))"
   ]
  },
  {
   "cell_type": "code",
   "execution_count": 37,
   "metadata": {
    "id": "ipiasAHcBuiS"
   },
   "outputs": [],
   "source": [
    "root_folder = \"data_input4/01_healthy\"\n",
    "healthy = []\n",
    "for root, dirs, files in os.walk(root_folder):  \n",
    "    for filename in files:\n",
    "        healthy.append(filename)"
   ]
  },
  {
   "cell_type": "code",
   "execution_count": 38,
   "metadata": {
    "colab": {
     "base_uri": "https://localhost:8080/"
    },
    "id": "LD8pl4YdBuwO",
    "outputId": "7a83713f-555e-462e-dddf-caebef8e9ce7"
   },
   "outputs": [
    {
     "name": "stdout",
     "output_type": "stream",
     "text": [
      "Здоровые ткани: 432\n"
     ]
    }
   ],
   "source": [
    "measurements = []\n",
    "classifications = []\n",
    "count_healhy = 0\n",
    "for sample in healthy:\n",
    "    df = pd.read_csv(os.path.join(root_folder,sample), sep='\\t',skiprows=[0],\n",
    "        header=None, names=[ 'Wave', 'Intensity'])\n",
    "    measurements.append(df[['Intensity']].to_numpy())\n",
    "    classifications.append([1,0])\n",
    "    count_healhy += 1\n",
    "\n",
    "print(f'Здоровые ткани: {count_healhy}')"
   ]
  },
  {
   "cell_type": "code",
   "execution_count": 39,
   "metadata": {
    "colab": {
     "base_uri": "https://localhost:8080/"
    },
    "id": "jp1UUd18jOND",
    "outputId": "97f8d01d-89d9-4eb8-e372-9f65fab3a681"
   },
   "outputs": [
    {
     "name": "stdout",
     "output_type": "stream",
     "text": [
      "Больные ткани: 456\n",
      "Всего образцов: 888\n"
     ]
    }
   ],
   "source": [
    "sick_path = 'image_tumor_patient20022019_633nm_obj20_power100_1sec_сenter2900.txt'\n",
    "count_sick = 0\n",
    "df = pd.read_csv(sick_path, sep='\\t',skiprows=[0],\n",
    "    header=None, names=['X', 'Y', 'Wave', 'Intensity'])\n",
    "for i in range(456):\n",
    "    measurements.append(df[['Intensity']][i*len(df['Wave'].unique()):(i+1)*len(df['Wave'].unique())].to_numpy())\n",
    "    classifications.append([0,1])\n",
    "    count_sick += 1\n",
    "\n",
    "print(f'Больные ткани: {count_sick}')\n",
    "print(f'Всего образцов: {count_healhy + count_sick}')"
   ]
  },
  {
   "cell_type": "code",
   "execution_count": 40,
   "metadata": {
    "id": "ezYW6GBmjQH5"
   },
   "outputs": [],
   "source": [
    "X = np.asarray(measurements)\n",
    "y = np.asarray(classifications)"
   ]
  },
  {
   "cell_type": "code",
   "execution_count": 41,
   "metadata": {
    "colab": {
     "base_uri": "https://localhost:8080/"
    },
    "id": "2Um9qh0DnPVb",
    "outputId": "c62a9637-0a61-4063-d2d4-92e83dea4b00"
   },
   "outputs": [
    {
     "data": {
      "text/plain": [
       "(888, 1015, 1)"
      ]
     },
     "execution_count": 41,
     "metadata": {},
     "output_type": "execute_result"
    }
   ],
   "source": [
    "X.shape"
   ]
  },
  {
   "cell_type": "code",
   "execution_count": 42,
   "metadata": {
    "colab": {
     "base_uri": "https://localhost:8080/"
    },
    "id": "P3oDPnqnBvFo",
    "outputId": "76843d3a-82a5-4ce1-f1fa-bfdbdc71cef3"
   },
   "outputs": [
    {
     "data": {
      "text/plain": [
       "(888, 1015)"
      ]
     },
     "execution_count": 42,
     "metadata": {},
     "output_type": "execute_result"
    }
   ],
   "source": [
    "X = X.reshape(888, 1015)\n",
    "X.shape"
   ]
  },
  {
   "cell_type": "code",
   "execution_count": 43,
   "metadata": {
    "colab": {
     "base_uri": "https://localhost:8080/"
    },
    "id": "vuqk0xvbBvR2",
    "outputId": "06ed3a5d-055a-48c7-ff20-97b040b7c075"
   },
   "outputs": [
    {
     "data": {
      "text/plain": [
       "(888, 2)"
      ]
     },
     "execution_count": 43,
     "metadata": {},
     "output_type": "execute_result"
    }
   ],
   "source": [
    "y.shape"
   ]
  },
  {
   "cell_type": "code",
   "execution_count": 44,
   "metadata": {
    "colab": {
     "base_uri": "https://localhost:8080/"
    },
    "id": "bKyXIETrBvbE",
    "outputId": "69077af1-db33-4779-e5f3-9767b55558b3"
   },
   "outputs": [
    {
     "name": "stdout",
     "output_type": "stream",
     "text": [
      "Total amount of train measurements: (666, 1015)\n",
      "Total amount of train labels: (666, 2)\n",
      "Total amount of test measurements: (222, 1015)\n",
      "Total amount of test labels: (222, 2)\n"
     ]
    }
   ],
   "source": [
    "X_train, X_test, y_train, y_test = train_test_split(X, y, test_size=0.25, random_state=42)\n",
    "print(f'Total amount of train measurements: {X_train.shape}')\n",
    "print(f'Total amount of train labels: {y_train.shape}')\n",
    "print(f'Total amount of test measurements: {X_test.shape}')\n",
    "print(f'Total amount of test labels: {y_test.shape}')\n",
    "y_train_labels = np.argmax(y_train, axis=1)\n",
    "y_test_labels = np.argmax(y_test, axis=1)"
   ]
  },
  {
   "cell_type": "markdown",
   "metadata": {
    "id": "2pHmLRxmH92w"
   },
   "source": [
    "Precision - доля объектов, названных классификатором положительными и при этом действительно являющимися положительными\n",
    "\n",
    "Recall показывает, какую долю объектов положительного класса из всех объектов положительного класса нашел алгоритм.\n",
    "\n",
    "F1 - среднее гармоническое precision и recall"
   ]
  },
  {
   "cell_type": "code",
   "execution_count": 45,
   "metadata": {
    "id": "V870fl-M7yFV"
   },
   "outputs": [],
   "source": [
    "from keras import backend as K\n",
    "\n",
    "def recall_m(y_true, y_pred):\n",
    "    true_positives = K.sum(K.round(K.clip(y_true * y_pred, 0, 1)))\n",
    "    possible_positives = K.sum(K.round(K.clip(y_true, 0, 1)))\n",
    "    recall = true_positives / (possible_positives + K.epsilon())\n",
    "    return recall\n",
    "\n",
    "def precision_m(y_true, y_pred):\n",
    "    true_positives = K.sum(K.round(K.clip(y_true * y_pred, 0, 1)))\n",
    "    predicted_positives = K.sum(K.round(K.clip(y_pred, 0, 1)))\n",
    "    precision = true_positives / (predicted_positives + K.epsilon())\n",
    "    return precision\n",
    "\n",
    "def f1(y_true, y_pred):\n",
    "    precision = precision_m(y_true, y_pred)\n",
    "    recall = recall_m(y_true, y_pred)\n",
    "    return 2*((precision*recall)/(precision+recall+K.epsilon()))"
   ]
  },
  {
   "cell_type": "code",
   "execution_count": 48,
   "metadata": {
    "colab": {
     "base_uri": "https://localhost:8080/"
    },
    "id": "xGOllau9BwB7",
    "outputId": "0dc8011a-eaed-4be4-a359-fd273ae36ff1"
   },
   "outputs": [
    {
     "name": "stdout",
     "output_type": "stream",
     "text": [
      "Model: \"sequential_10\"\n",
      "_________________________________________________________________\n",
      " Layer (type)                Output Shape              Param #   \n",
      "=================================================================\n",
      " conv1d_40 (Conv1D)          (None, 1012, 128)         640       \n",
      "                                                                 \n",
      " conv1d_41 (Conv1D)          (None, 1009, 128)         65664     \n",
      "                                                                 \n",
      " batch_normalization_50 (Bat  (None, 1009, 128)        512       \n",
      " chNormalization)                                                \n",
      "                                                                 \n",
      " activation_50 (Activation)  (None, 1009, 128)         0         \n",
      "                                                                 \n",
      " max_pooling1d_20 (MaxPoolin  (None, 504, 128)         0         \n",
      " g1D)                                                            \n",
      "                                                                 \n",
      " dropout_30 (Dropout)        (None, 504, 128)          0         \n",
      "                                                                 \n",
      " conv1d_42 (Conv1D)          (None, 503, 256)          65792     \n",
      "                                                                 \n",
      " conv1d_43 (Conv1D)          (None, 502, 256)          131328    \n",
      "                                                                 \n",
      " batch_normalization_51 (Bat  (None, 502, 256)         1024      \n",
      " chNormalization)                                                \n",
      "                                                                 \n",
      " activation_51 (Activation)  (None, 502, 256)          0         \n",
      "                                                                 \n",
      " max_pooling1d_21 (MaxPoolin  (None, 251, 256)         0         \n",
      " g1D)                                                            \n",
      "                                                                 \n",
      " dropout_31 (Dropout)        (None, 251, 256)          0         \n",
      "                                                                 \n",
      " flatten_10 (Flatten)        (None, 64256)             0         \n",
      "                                                                 \n",
      " dense_40 (Dense)            (None, 256)               16449536  \n",
      "                                                                 \n",
      " batch_normalization_52 (Bat  (None, 256)              1024      \n",
      " chNormalization)                                                \n",
      "                                                                 \n",
      " activation_52 (Activation)  (None, 256)               0         \n",
      "                                                                 \n",
      " dense_41 (Dense)            (None, 128)               32768     \n",
      "                                                                 \n",
      " batch_normalization_53 (Bat  (None, 128)              512       \n",
      " chNormalization)                                                \n",
      "                                                                 \n",
      " activation_53 (Activation)  (None, 128)               0         \n",
      "                                                                 \n",
      " dense_42 (Dense)            (None, 64)                8192      \n",
      "                                                                 \n",
      " batch_normalization_54 (Bat  (None, 64)               256       \n",
      " chNormalization)                                                \n",
      "                                                                 \n",
      " activation_54 (Activation)  (None, 64)                0         \n",
      "                                                                 \n",
      " dropout_32 (Dropout)        (None, 64)                0         \n",
      "                                                                 \n",
      " dense_43 (Dense)            (None, 2)                 130       \n",
      "                                                                 \n",
      "=================================================================\n",
      "Total params: 16,757,378\n",
      "Trainable params: 16,755,714\n",
      "Non-trainable params: 1,664\n",
      "_________________________________________________________________\n",
      "Epoch 1/100\n",
      "11/11 [==============================] - 2s 53ms/step - loss: 1.1043 - accuracy: 0.6111 - f1: 0.6061\n",
      "Epoch 2/100\n",
      "11/11 [==============================] - 1s 47ms/step - loss: 0.8389 - accuracy: 0.6486 - f1: 0.6469\n",
      "Epoch 3/100\n",
      "11/11 [==============================] - 1s 47ms/step - loss: 0.8110 - accuracy: 0.6502 - f1: 0.6483\n",
      "Epoch 4/100\n",
      "11/11 [==============================] - 1s 47ms/step - loss: 0.7197 - accuracy: 0.6727 - f1: 0.6696\n",
      "Epoch 5/100\n",
      "11/11 [==============================] - 1s 46ms/step - loss: 0.7088 - accuracy: 0.7072 - f1: 0.7126\n",
      "Epoch 6/100\n",
      "11/11 [==============================] - 1s 47ms/step - loss: 0.6523 - accuracy: 0.7132 - f1: 0.7183\n",
      "Epoch 7/100\n",
      "11/11 [==============================] - 1s 47ms/step - loss: 0.6512 - accuracy: 0.7267 - f1: 0.7228\n",
      "Epoch 8/100\n",
      "11/11 [==============================] - 1s 47ms/step - loss: 0.6541 - accuracy: 0.7312 - f1: 0.7187\n",
      "Epoch 9/100\n",
      "11/11 [==============================] - 1s 48ms/step - loss: 0.6183 - accuracy: 0.7087 - f1: 0.6995\n",
      "Epoch 10/100\n",
      "11/11 [==============================] - 1s 47ms/step - loss: 0.6547 - accuracy: 0.6997 - f1: 0.7014\n",
      "Epoch 11/100\n",
      "11/11 [==============================] - 1s 47ms/step - loss: 0.6062 - accuracy: 0.6892 - f1: 0.6852\n",
      "Epoch 12/100\n",
      "11/11 [==============================] - 1s 47ms/step - loss: 0.5609 - accuracy: 0.7342 - f1: 0.7195\n",
      "Epoch 13/100\n",
      "11/11 [==============================] - 1s 48ms/step - loss: 0.5968 - accuracy: 0.7192 - f1: 0.7240\n",
      "Epoch 14/100\n",
      "11/11 [==============================] - 1s 47ms/step - loss: 0.5601 - accuracy: 0.7372 - f1: 0.7431\n",
      "Epoch 15/100\n",
      "11/11 [==============================] - 1s 48ms/step - loss: 0.6184 - accuracy: 0.7027 - f1: 0.7084\n",
      "Epoch 16/100\n",
      "11/11 [==============================] - 1s 47ms/step - loss: 0.5355 - accuracy: 0.7718 - f1: 0.7737\n",
      "Epoch 17/100\n",
      "11/11 [==============================] - 1s 47ms/step - loss: 0.5530 - accuracy: 0.7568 - f1: 0.7574\n",
      "Epoch 18/100\n",
      "11/11 [==============================] - 1s 47ms/step - loss: 0.5372 - accuracy: 0.7538 - f1: 0.7484\n",
      "Epoch 19/100\n",
      "11/11 [==============================] - 1s 47ms/step - loss: 0.5514 - accuracy: 0.7538 - f1: 0.7401\n",
      "Epoch 20/100\n",
      "11/11 [==============================] - 1s 47ms/step - loss: 0.5259 - accuracy: 0.7523 - f1: 0.7552\n",
      "Epoch 21/100\n",
      "11/11 [==============================] - 1s 47ms/step - loss: 0.5632 - accuracy: 0.7568 - f1: 0.7512\n",
      "Epoch 22/100\n",
      "11/11 [==============================] - 1s 48ms/step - loss: 0.5377 - accuracy: 0.7613 - f1: 0.7638\n",
      "Epoch 23/100\n",
      "11/11 [==============================] - 1s 47ms/step - loss: 0.5281 - accuracy: 0.7613 - f1: 0.7679\n",
      "Epoch 24/100\n",
      "11/11 [==============================] - 1s 47ms/step - loss: 0.5262 - accuracy: 0.7568 - f1: 0.7616\n",
      "Epoch 25/100\n",
      "11/11 [==============================] - 1s 47ms/step - loss: 0.5131 - accuracy: 0.7838 - f1: 0.7913\n",
      "Epoch 26/100\n",
      "11/11 [==============================] - 1s 48ms/step - loss: 0.4820 - accuracy: 0.7943 - f1: 0.7929\n",
      "Epoch 27/100\n",
      "11/11 [==============================] - 1s 47ms/step - loss: 0.4777 - accuracy: 0.7898 - f1: 0.7887\n",
      "Epoch 28/100\n",
      "11/11 [==============================] - 1s 47ms/step - loss: 0.4894 - accuracy: 0.7898 - f1: 0.7887\n",
      "Epoch 29/100\n",
      "11/11 [==============================] - 1s 47ms/step - loss: 0.4929 - accuracy: 0.7763 - f1: 0.7821\n",
      "Epoch 30/100\n",
      "11/11 [==============================] - 1s 47ms/step - loss: 0.4944 - accuracy: 0.7568 - f1: 0.7554\n",
      "Epoch 31/100\n",
      "11/11 [==============================] - 1s 47ms/step - loss: 0.4812 - accuracy: 0.7838 - f1: 0.7788\n",
      "Epoch 32/100\n",
      "11/11 [==============================] - 1s 47ms/step - loss: 0.4550 - accuracy: 0.7883 - f1: 0.7893\n",
      "Epoch 33/100\n",
      "11/11 [==============================] - 1s 47ms/step - loss: 0.4655 - accuracy: 0.7898 - f1: 0.7908\n",
      "Epoch 34/100\n",
      "11/11 [==============================] - 1s 51ms/step - loss: 0.4508 - accuracy: 0.8033 - f1: 0.8035\n",
      "Epoch 35/100\n",
      "11/11 [==============================] - 1s 51ms/step - loss: 0.4315 - accuracy: 0.8033 - f1: 0.8056\n",
      "Epoch 36/100\n",
      "11/11 [==============================] - 1s 51ms/step - loss: 0.4615 - accuracy: 0.7943 - f1: 0.7971\n",
      "Epoch 37/100\n",
      "11/11 [==============================] - 1s 49ms/step - loss: 0.4123 - accuracy: 0.8288 - f1: 0.8298\n",
      "Epoch 38/100\n",
      "11/11 [==============================] - 1s 47ms/step - loss: 0.4195 - accuracy: 0.8123 - f1: 0.8141\n",
      "Epoch 39/100\n",
      "11/11 [==============================] - 1s 48ms/step - loss: 0.4089 - accuracy: 0.8048 - f1: 0.8070\n",
      "Epoch 40/100\n",
      "11/11 [==============================] - 1s 48ms/step - loss: 0.4176 - accuracy: 0.8048 - f1: 0.8029\n",
      "Epoch 41/100\n",
      "11/11 [==============================] - 1s 47ms/step - loss: 0.4535 - accuracy: 0.7913 - f1: 0.7943\n",
      "Epoch 42/100\n",
      "11/11 [==============================] - 1s 48ms/step - loss: 0.3790 - accuracy: 0.8258 - f1: 0.8269\n",
      "Epoch 43/100\n",
      "11/11 [==============================] - 1s 48ms/step - loss: 0.4020 - accuracy: 0.8048 - f1: 0.8091\n",
      "Epoch 44/100\n",
      "11/11 [==============================] - 1s 48ms/step - loss: 0.3802 - accuracy: 0.8213 - f1: 0.8185\n",
      "Epoch 45/100\n",
      "11/11 [==============================] - 1s 48ms/step - loss: 0.4004 - accuracy: 0.8183 - f1: 0.8157\n",
      "Epoch 46/100\n",
      "11/11 [==============================] - 1s 48ms/step - loss: 0.3738 - accuracy: 0.8108 - f1: 0.8106\n",
      "Epoch 47/100\n",
      "11/11 [==============================] - 1s 48ms/step - loss: 0.4150 - accuracy: 0.8093 - f1: 0.8113\n",
      "Epoch 48/100\n",
      "11/11 [==============================] - 1s 47ms/step - loss: 0.3765 - accuracy: 0.8213 - f1: 0.8206\n",
      "Epoch 49/100\n",
      "11/11 [==============================] - 1s 48ms/step - loss: 0.3880 - accuracy: 0.8048 - f1: 0.8050\n",
      "Epoch 50/100\n",
      "11/11 [==============================] - 1s 48ms/step - loss: 0.3973 - accuracy: 0.8108 - f1: 0.8148\n",
      "Epoch 51/100\n",
      "11/11 [==============================] - 1s 47ms/step - loss: 0.3417 - accuracy: 0.8468 - f1: 0.8406\n",
      "Epoch 52/100\n",
      "11/11 [==============================] - 1s 47ms/step - loss: 0.6111 - accuracy: 0.7267 - f1: 0.7332\n",
      "Epoch 53/100\n",
      "11/11 [==============================] - 1s 48ms/step - loss: 0.5712 - accuracy: 0.7447 - f1: 0.7523\n",
      "Epoch 54/100\n",
      "11/11 [==============================] - 1s 48ms/step - loss: 0.5678 - accuracy: 0.7387 - f1: 0.7404\n",
      "Epoch 55/100\n",
      "11/11 [==============================] - 1s 47ms/step - loss: 0.5253 - accuracy: 0.7432 - f1: 0.7488\n",
      "Epoch 56/100\n",
      "11/11 [==============================] - 1s 48ms/step - loss: 0.5105 - accuracy: 0.7793 - f1: 0.7829\n",
      "Epoch 57/100\n",
      "11/11 [==============================] - 1s 48ms/step - loss: 0.5035 - accuracy: 0.7748 - f1: 0.7828\n",
      "Epoch 58/100\n",
      "11/11 [==============================] - 1s 48ms/step - loss: 0.4569 - accuracy: 0.7988 - f1: 0.7972\n",
      "Epoch 59/100\n",
      "11/11 [==============================] - 1s 48ms/step - loss: 0.4959 - accuracy: 0.7778 - f1: 0.7773\n",
      "Epoch 60/100\n",
      "11/11 [==============================] - 1s 47ms/step - loss: 0.4726 - accuracy: 0.7958 - f1: 0.8006\n",
      "Epoch 61/100\n",
      "11/11 [==============================] - 1s 48ms/step - loss: 0.4613 - accuracy: 0.7958 - f1: 0.7964\n",
      "Epoch 62/100\n",
      "11/11 [==============================] - 1s 48ms/step - loss: 0.4613 - accuracy: 0.7943 - f1: 0.7992\n",
      "Epoch 63/100\n",
      "11/11 [==============================] - 1s 48ms/step - loss: 0.4329 - accuracy: 0.7943 - f1: 0.7971\n",
      "Epoch 64/100\n",
      "11/11 [==============================] - 1s 49ms/step - loss: 0.4414 - accuracy: 0.7928 - f1: 0.7936\n",
      "Epoch 65/100\n",
      "11/11 [==============================] - 1s 48ms/step - loss: 0.4012 - accuracy: 0.8198 - f1: 0.8129\n",
      "Epoch 66/100\n",
      "11/11 [==============================] - 1s 47ms/step - loss: 0.3712 - accuracy: 0.8228 - f1: 0.8199\n",
      "Epoch 67/100\n",
      "11/11 [==============================] - 1s 48ms/step - loss: 0.3802 - accuracy: 0.8228 - f1: 0.8241\n",
      "Epoch 68/100\n",
      "11/11 [==============================] - 1s 48ms/step - loss: 0.3894 - accuracy: 0.8228 - f1: 0.8241\n",
      "Epoch 69/100\n",
      "11/11 [==============================] - 1s 47ms/step - loss: 0.3498 - accuracy: 0.8483 - f1: 0.8482\n",
      "Epoch 70/100\n",
      "11/11 [==============================] - 1s 48ms/step - loss: 0.3638 - accuracy: 0.8318 - f1: 0.8326\n",
      "Epoch 71/100\n",
      "11/11 [==============================] - 1s 48ms/step - loss: 0.3551 - accuracy: 0.8303 - f1: 0.8312\n",
      "Epoch 72/100\n",
      "11/11 [==============================] - 1s 48ms/step - loss: 0.3534 - accuracy: 0.8378 - f1: 0.8404\n",
      "Epoch 73/100\n",
      "11/11 [==============================] - 1s 49ms/step - loss: 0.3501 - accuracy: 0.8243 - f1: 0.8297\n",
      "Epoch 74/100\n",
      "11/11 [==============================] - 1s 48ms/step - loss: 0.3470 - accuracy: 0.8288 - f1: 0.8235\n",
      "Epoch 75/100\n",
      "11/11 [==============================] - 1s 48ms/step - loss: 0.3480 - accuracy: 0.8529 - f1: 0.8483\n",
      "Epoch 76/100\n",
      "11/11 [==============================] - 1s 49ms/step - loss: 0.3468 - accuracy: 0.8303 - f1: 0.8353\n",
      "Epoch 77/100\n",
      "11/11 [==============================] - 1s 48ms/step - loss: 0.3294 - accuracy: 0.8529 - f1: 0.8546\n",
      "Epoch 78/100\n",
      "11/11 [==============================] - 1s 48ms/step - loss: 0.3230 - accuracy: 0.8589 - f1: 0.8540\n",
      "Epoch 79/100\n",
      "11/11 [==============================] - 1s 48ms/step - loss: 0.3520 - accuracy: 0.8378 - f1: 0.8424\n",
      "Epoch 80/100\n",
      "11/11 [==============================] - 1s 49ms/step - loss: 0.3107 - accuracy: 0.8363 - f1: 0.8389\n",
      "Epoch 81/100\n",
      "11/11 [==============================] - 1s 48ms/step - loss: 0.3165 - accuracy: 0.8574 - f1: 0.8547\n",
      "Epoch 82/100\n",
      "11/11 [==============================] - 1s 48ms/step - loss: 0.3457 - accuracy: 0.8228 - f1: 0.8241\n",
      "Epoch 83/100\n",
      "11/11 [==============================] - 1s 49ms/step - loss: 0.3103 - accuracy: 0.8559 - f1: 0.8553\n",
      "Epoch 84/100\n",
      "11/11 [==============================] - 1s 49ms/step - loss: 0.2936 - accuracy: 0.8709 - f1: 0.8695\n",
      "Epoch 85/100\n",
      "11/11 [==============================] - 1s 48ms/step - loss: 0.3024 - accuracy: 0.8544 - f1: 0.8581\n",
      "Epoch 86/100\n",
      "11/11 [==============================] - 1s 48ms/step - loss: 0.2856 - accuracy: 0.8829 - f1: 0.8809\n",
      "Epoch 87/100\n",
      "11/11 [==============================] - 1s 48ms/step - loss: 0.3054 - accuracy: 0.8514 - f1: 0.8365\n",
      "Epoch 88/100\n",
      "11/11 [==============================] - 1s 48ms/step - loss: 0.3090 - accuracy: 0.8559 - f1: 0.8533\n",
      "Epoch 89/100\n",
      "11/11 [==============================] - 1s 48ms/step - loss: 0.3304 - accuracy: 0.8378 - f1: 0.8321\n",
      "Epoch 90/100\n",
      "11/11 [==============================] - 1s 49ms/step - loss: 0.3147 - accuracy: 0.8589 - f1: 0.8582\n",
      "Epoch 91/100\n",
      "11/11 [==============================] - 1s 49ms/step - loss: 0.3485 - accuracy: 0.8378 - f1: 0.8341\n",
      "Epoch 92/100\n",
      "11/11 [==============================] - 1s 48ms/step - loss: 0.6394 - accuracy: 0.7387 - f1: 0.7383\n",
      "Epoch 93/100\n",
      "11/11 [==============================] - 1s 48ms/step - loss: 0.6287 - accuracy: 0.7417 - f1: 0.7453\n",
      "Epoch 94/100\n",
      "11/11 [==============================] - 1s 49ms/step - loss: 0.5033 - accuracy: 0.7778 - f1: 0.7752\n",
      "Epoch 95/100\n",
      "11/11 [==============================] - 1s 49ms/step - loss: 0.4829 - accuracy: 0.7838 - f1: 0.7830\n",
      "Epoch 96/100\n",
      "11/11 [==============================] - 1s 49ms/step - loss: 0.5090 - accuracy: 0.7748 - f1: 0.7766\n",
      "Epoch 97/100\n",
      "11/11 [==============================] - 1s 49ms/step - loss: 0.4730 - accuracy: 0.7793 - f1: 0.7870\n",
      "Epoch 98/100\n",
      "11/11 [==============================] - 1s 48ms/step - loss: 0.4851 - accuracy: 0.7958 - f1: 0.7840\n",
      "Epoch 99/100\n",
      "11/11 [==============================] - 1s 48ms/step - loss: 0.4894 - accuracy: 0.7718 - f1: 0.7654\n",
      "Epoch 100/100\n",
      "11/11 [==============================] - 1s 48ms/step - loss: 0.3913 - accuracy: 0.8213 - f1: 0.8206\n"
     ]
    }
   ],
   "source": [
    "# Model 1\n",
    "model = Sequential()\n",
    "model.add(Conv1D(128, 4, activation='relu', input_shape=(1015,1),kernel_regularizer=regularizers.l1_l2(l1=1e-5, l2=1e-4))) # 32 neurons\n",
    "model.add(Conv1D(128, 4, activation='relu', bias_regularizer=regularizers.l2(1e-4))) # 32 neurons\n",
    "model.add(BatchNormalization())\n",
    "model.add(Activation('relu'))\n",
    "model.add(MaxPooling1D())\n",
    "model.add(Dropout(0.25))\n",
    "model.add(Conv1D(256, 2, activation='relu', kernel_regularizer=regularizers.l1_l2(l1=1e-5, l2=1e-4))) # 64 neurons\n",
    "model.add(Conv1D(256, 2, activation='relu', bias_regularizer=regularizers.l2(1e-4))) # 64 neurons\n",
    "model.add(BatchNormalization())\n",
    "model.add(Activation('relu'))\n",
    "model.add(MaxPooling1D())\n",
    "model.add(Dropout(0.25))\n",
    "model.add(Flatten())\n",
    "model.add(Dense(256, activation = 'relu', use_bias=False))\n",
    "model.add(BatchNormalization())\n",
    "model.add(Activation('relu'))\n",
    "model.add(Dense(128, activation = 'relu', use_bias=False))\n",
    "model.add(BatchNormalization())\n",
    "model.add(Activation('relu'))\n",
    "model.add(Dense(64, activation = 'relu', use_bias=False))\n",
    "model.add(BatchNormalization())\n",
    "model.add(Activation('relu'))\n",
    "model.add(Dropout(0.25))\n",
    "model.add(Dense(2, activation = 'softmax'))\n",
    "model.summary()\n",
    "model.compile(loss='categorical_crossentropy', optimizer='adam', metrics=['accuracy', f1])\n",
    "model_hist = model.fit(X_train, y_train, batch_size=64, epochs=100, verbose=1)"
   ]
  },
  {
   "cell_type": "code",
   "execution_count": 49,
   "metadata": {
    "colab": {
     "base_uri": "https://localhost:8080/"
    },
    "id": "N_SW_ONsB3hq",
    "outputId": "5b9f1c06-fdf9-46d9-9640-1a3f23913ca8"
   },
   "outputs": [
    {
     "name": "stdout",
     "output_type": "stream",
     "text": [
      "7/7 [==============================] - 0s 13ms/step - loss: 0.3880 - accuracy: 0.8423 - f1: 0.8426\n",
      "Loss: 0.38798433542251587  Accuracy: 0.8423423171043396  F1 : 0.8425594568252563\n",
      "7/7 [==============================] - 0s 10ms/step\n",
      "[0.98 0.02] [0.77 0.23]\n"
     ]
    }
   ],
   "source": [
    "acc = model.evaluate(X_test, y_test)\n",
    "print(\"Loss:\", acc[0], \" Accuracy:\", acc[1], \" F1 :\", acc[2])\n",
    "pred = model.predict(X_test)\n",
    "print(np.round(pred,2)[0], np.round(pred,2)[1])\n",
    "#model2.save(\"3.h5\")"
   ]
  },
  {
   "cell_type": "code",
   "execution_count": 50,
   "metadata": {
    "colab": {
     "base_uri": "https://localhost:8080/",
     "height": 295
    },
    "id": "xTW3kUP5IHUN",
    "outputId": "90a63a03-79f3-4018-b442-240d6033720b"
   },
   "outputs": [
    {
     "data": {
      "image/png": "[encoded data removed]",
      "text/plain": [
       "<Figure size 432x288 with 1 Axes>"
      ]
     },
     "metadata": {
      "needs_background": "light"
     },
     "output_type": "display_data"
    }
   ],
   "source": [
    "loss, accuracy, f1  = model.evaluate(X_test, y_test, verbose=False)\n",
    "\n",
    "plt.plot(model_hist.history['accuracy'])\n",
    "plt.title('model 1  - accuracy from epoch')\n",
    "plt.ylabel('accuracy')\n",
    "plt.xlabel('epoch')\n",
    "plt.legend(['training', 'validation'], loc='best')\n",
    "plt.show()"
   ]
  },
  {
   "cell_type": "code",
   "execution_count": 17,
   "metadata": {
    "colab": {
     "base_uri": "https://localhost:8080/"
    },
    "id": "PXfRIcgS7Gyp",
    "outputId": "6f66c0db-6bbf-4853-ec3f-bec53205667b"
   },
   "outputs": [
    {
     "name": "stdout",
     "output_type": "stream",
     "text": [
      "CatBoost F1 Score 0.9315068493150686\n",
      "CatBoost Accuracy 0.9253731343283582\n"
     ]
    }
   ],
   "source": [
    "from catboost import CatBoostClassifier\n",
    "from sklearn.metrics import f1_score\n",
    "model_catboost = CatBoostClassifier(verbose=False)\n",
    "model_catboost.fit(X_train, y_train_labels)\n",
    "print(f'CatBoost F1 Score {f1_score(y_test_labels, model_catboost.predict(X_test))}')\n",
    "\n",
    "from sklearn.metrics import accuracy_score\n",
    "print(f'CatBoost Accuracy {accuracy_score(y_test_labels, model_catboost.predict(X_test))}')"
   ]
  },
  {
   "cell_type": "code",
   "execution_count": 18,
   "metadata": {
    "colab": {
     "base_uri": "https://localhost:8080/",
     "height": 265
    },
    "id": "Ti6pAZujxI2S",
    "outputId": "c1081c24-fc72-40aa-fd5f-b430faf70755"
   },
   "outputs": [
    {
     "data": {
      "image/png": "[encoded data removed]",
      "text/plain": [
       "<Figure size 432x288 with 1 Axes>"
      ]
     },
     "metadata": {
      "needs_background": "light"
     },
     "output_type": "display_data"
    }
   ],
   "source": [
    "plt.plot(X_train[20])\n",
    "plt.show()"
   ]
  },
  {
   "cell_type": "code",
   "execution_count": 41,
   "metadata": {
    "colab": {
     "base_uri": "https://localhost:8080/",
     "height": 265
    },
    "id": "52MwIvtM4RqL",
    "outputId": "4f7b11ca-da53-45fb-de04-36369492f5c8"
   },
   "outputs": [
    {
     "data": {
      "image/png": "[encoded data removed]",
      "text/plain": [
       "<Figure size 432x288 with 1 Axes>"
      ]
     },
     "metadata": {
      "needs_background": "light"
     },
     "output_type": "display_data"
    }
   ],
   "source": [
    "from scipy.signal import savgol_filter\n",
    "w = savgol_filter(X_train[20], 101, 2)\n",
    "plt.plot(w)  # high frequency noise removed\n",
    "plt.show()"
   ]
  },
  {
   "cell_type": "markdown",
   "metadata": {
    "id": "HuGmnD7g4WgB"
   },
   "source": [
    "Savitzky-Golay filter (Фильтр Савицки-Голея) - фильтр для сглаживания данных. Параметр window_length - нечетное число, чем больше чем сглаженне данные\n",
    "\n",
    "Аналоги которые можно попробовать: Kalman filter, IIR filter, LOWESS \n",
    "\n",
    "*   Kalman filter\n",
    "*   IIR filter\n",
    "*   LOWESS (Locally Weighted Scatterplot Smoothing)\n",
    "*   rolling mean\n",
    "*   RBF (radial basis function) interpolation"
   ]
  },
  {
   "cell_type": "code",
   "execution_count": 53,
   "metadata": {
    "id": "ZQWgpvG_riab"
   },
   "outputs": [],
   "source": [
    "from scipy.signal import savgol_filter\n",
    "for i in range(len(X_train)):\n",
    "    X_train[i] = savgol_filter(X_train[i], 101, 2)"
   ]
  },
  {
   "cell_type": "code",
   "execution_count": 54,
   "metadata": {
    "id": "DOUGfObx-GV_"
   },
   "outputs": [],
   "source": [
    "from keras import backend as K\n",
    "\n",
    "def recall_m(y_true, y_pred):\n",
    "    true_positives = K.sum(K.round(K.clip(y_true * y_pred, 0, 1)))\n",
    "    possible_positives = K.sum(K.round(K.clip(y_true, 0, 1)))\n",
    "    recall = true_positives / (possible_positives + K.epsilon())\n",
    "    return recall\n",
    "\n",
    "def precision_m(y_true, y_pred):\n",
    "    true_positives = K.sum(K.round(K.clip(y_true * y_pred, 0, 1)))\n",
    "    predicted_positives = K.sum(K.round(K.clip(y_pred, 0, 1)))\n",
    "    precision = true_positives / (predicted_positives + K.epsilon())\n",
    "    return precision\n",
    "\n",
    "def f1(y_true, y_pred):\n",
    "    precision = precision_m(y_true, y_pred)\n",
    "    recall = recall_m(y_true, y_pred)\n",
    "    return 2*((precision*recall)/(precision+recall+K.epsilon()))"
   ]
  },
  {
   "cell_type": "code",
   "execution_count": 55,
   "metadata": {
    "colab": {
     "base_uri": "https://localhost:8080/"
    },
    "id": "eVXya9QVxW_V",
    "outputId": "44b9c424-6570-48d7-d4ae-8263a1ad67d5"
   },
   "outputs": [
    {
     "name": "stdout",
     "output_type": "stream",
     "text": [
      "Model: \"sequential_11\"\n",
      "_________________________________________________________________\n",
      " Layer (type)                Output Shape              Param #   \n",
      "=================================================================\n",
      " conv1d_44 (Conv1D)          (None, 1012, 128)         640       \n",
      "                                                                 \n",
      " conv1d_45 (Conv1D)          (None, 1009, 128)         65664     \n",
      "                                                                 \n",
      " batch_normalization_55 (Bat  (None, 1009, 128)        512       \n",
      " chNormalization)                                                \n",
      "                                                                 \n",
      " activation_55 (Activation)  (None, 1009, 128)         0         \n",
      "                                                                 \n",
      " max_pooling1d_22 (MaxPoolin  (None, 504, 128)         0         \n",
      " g1D)                                                            \n",
      "                                                                 \n",
      " dropout_33 (Dropout)        (None, 504, 128)          0         \n",
      "                                                                 \n",
      " conv1d_46 (Conv1D)          (None, 503, 256)          65792     \n",
      "                                                                 \n",
      " conv1d_47 (Conv1D)          (None, 502, 256)          131328    \n",
      "                                                                 \n",
      " batch_normalization_56 (Bat  (None, 502, 256)         1024      \n",
      " chNormalization)                                                \n",
      "                                                                 \n",
      " activation_56 (Activation)  (None, 502, 256)          0         \n",
      "                                                                 \n",
      " max_pooling1d_23 (MaxPoolin  (None, 251, 256)         0         \n",
      " g1D)                                                            \n",
      "                                                                 \n",
      " dropout_34 (Dropout)        (None, 251, 256)          0         \n",
      "                                                                 \n",
      " flatten_11 (Flatten)        (None, 64256)             0         \n",
      "                                                                 \n",
      " dense_44 (Dense)            (None, 256)               16449536  \n",
      "                                                                 \n",
      " batch_normalization_57 (Bat  (None, 256)              1024      \n",
      " chNormalization)                                                \n",
      "                                                                 \n",
      " activation_57 (Activation)  (None, 256)               0         \n",
      "                                                                 \n",
      " dense_45 (Dense)            (None, 128)               32768     \n",
      "                                                                 \n",
      " batch_normalization_58 (Bat  (None, 128)              512       \n",
      " chNormalization)                                                \n",
      "                                                                 \n",
      " activation_58 (Activation)  (None, 128)               0         \n",
      "                                                                 \n",
      " dense_46 (Dense)            (None, 64)                8192      \n",
      "                                                                 \n",
      " batch_normalization_59 (Bat  (None, 64)               256       \n",
      " chNormalization)                                                \n",
      "                                                                 \n",
      " activation_59 (Activation)  (None, 64)                0         \n",
      "                                                                 \n",
      " dropout_35 (Dropout)        (None, 64)                0         \n",
      "                                                                 \n",
      " dense_47 (Dense)            (None, 2)                 130       \n",
      "                                                                 \n",
      "=================================================================\n",
      "Total params: 16,757,378\n",
      "Trainable params: 16,755,714\n",
      "Non-trainable params: 1,664\n",
      "_________________________________________________________________\n",
      "Epoch 1/100\n",
      "6/6 [==============================] - 3s 77ms/step - loss: 0.8481 - accuracy: 0.4910 - f1: 0.4697\n",
      "Epoch 2/100\n",
      "6/6 [==============================] - 0s 77ms/step - loss: 0.6980 - accuracy: 0.5991 - f1: 0.6166\n",
      "Epoch 3/100\n",
      "6/6 [==============================] - 0s 77ms/step - loss: 0.6429 - accuracy: 0.6862 - f1: 0.6870\n",
      "Epoch 4/100\n",
      "6/6 [==============================] - 0s 78ms/step - loss: 0.6505 - accuracy: 0.6712 - f1: 0.6740\n",
      "Epoch 5/100\n",
      "6/6 [==============================] - 0s 78ms/step - loss: 0.6339 - accuracy: 0.7102 - f1: 0.7078\n",
      "Epoch 6/100\n",
      "6/6 [==============================] - 0s 77ms/step - loss: 0.5635 - accuracy: 0.7523 - f1: 0.7596\n",
      "Epoch 7/100\n",
      "6/6 [==============================] - 0s 77ms/step - loss: 0.5940 - accuracy: 0.7222 - f1: 0.7182\n",
      "Epoch 8/100\n",
      "6/6 [==============================] - 0s 78ms/step - loss: 0.5511 - accuracy: 0.7492 - f1: 0.7315\n",
      "Epoch 9/100\n",
      "6/6 [==============================] - 0s 79ms/step - loss: 0.5785 - accuracy: 0.7297 - f1: 0.7401\n",
      "Epoch 10/100\n",
      "6/6 [==============================] - 0s 79ms/step - loss: 0.5594 - accuracy: 0.7643 - f1: 0.7751\n",
      "Epoch 11/100\n",
      "6/6 [==============================] - 0s 78ms/step - loss: 0.5467 - accuracy: 0.7492 - f1: 0.7417\n",
      "Epoch 12/100\n",
      "6/6 [==============================] - 0s 77ms/step - loss: 0.5446 - accuracy: 0.7583 - f1: 0.7648\n",
      "Epoch 13/100\n",
      "6/6 [==============================] - 0s 78ms/step - loss: 0.5767 - accuracy: 0.7462 - f1: 0.7442\n",
      "Epoch 14/100\n",
      "6/6 [==============================] - 0s 78ms/step - loss: 0.5591 - accuracy: 0.7462 - f1: 0.7544\n",
      "Epoch 15/100\n",
      "6/6 [==============================] - 0s 78ms/step - loss: 0.5792 - accuracy: 0.7447 - f1: 0.7480\n",
      "Epoch 16/100\n",
      "6/6 [==============================] - 0s 78ms/step - loss: 0.5390 - accuracy: 0.7387 - f1: 0.7275\n",
      "Epoch 17/100\n",
      "6/6 [==============================] - 0s 79ms/step - loss: 0.5497 - accuracy: 0.7477 - f1: 0.7557\n",
      "Epoch 18/100\n",
      "6/6 [==============================] - 0s 78ms/step - loss: 0.5421 - accuracy: 0.7643 - f1: 0.7751\n",
      "Epoch 19/100\n",
      "6/6 [==============================] - 0s 78ms/step - loss: 0.5290 - accuracy: 0.7868 - f1: 0.7896\n",
      "Epoch 20/100\n",
      "6/6 [==============================] - 0s 78ms/step - loss: 0.5176 - accuracy: 0.7763 - f1: 0.7651\n",
      "Epoch 21/100\n",
      "6/6 [==============================] - 0s 79ms/step - loss: 0.5916 - accuracy: 0.7462 - f1: 0.7340\n",
      "Epoch 22/100\n",
      "6/6 [==============================] - 0s 79ms/step - loss: 0.5458 - accuracy: 0.7583 - f1: 0.7546\n",
      "Epoch 23/100\n",
      "6/6 [==============================] - 0s 79ms/step - loss: 0.5155 - accuracy: 0.7763 - f1: 0.7549\n",
      "Epoch 24/100\n",
      "6/6 [==============================] - 0s 78ms/step - loss: 0.5233 - accuracy: 0.7748 - f1: 0.7536\n",
      "Epoch 25/100\n",
      "6/6 [==============================] - 0s 78ms/step - loss: 0.5825 - accuracy: 0.7402 - f1: 0.7032\n",
      "Epoch 26/100\n",
      "6/6 [==============================] - 0s 78ms/step - loss: 0.5174 - accuracy: 0.7583 - f1: 0.7648\n",
      "Epoch 27/100\n",
      "6/6 [==============================] - 0s 78ms/step - loss: 0.5160 - accuracy: 0.7763 - f1: 0.7804\n",
      "Epoch 28/100\n",
      "6/6 [==============================] - 0s 78ms/step - loss: 0.5179 - accuracy: 0.7658 - f1: 0.7662\n",
      "Epoch 29/100\n",
      "6/6 [==============================] - 0s 78ms/step - loss: 0.5190 - accuracy: 0.7673 - f1: 0.7471\n",
      "Epoch 30/100\n",
      "6/6 [==============================] - 0s 79ms/step - loss: 0.4877 - accuracy: 0.7898 - f1: 0.7922\n",
      "Epoch 31/100\n",
      "6/6 [==============================] - 0s 79ms/step - loss: 0.4831 - accuracy: 0.7943 - f1: 0.8063\n",
      "Epoch 32/100\n",
      "6/6 [==============================] - 0s 79ms/step - loss: 0.5019 - accuracy: 0.7943 - f1: 0.7961\n",
      "Epoch 33/100\n",
      "6/6 [==============================] - 0s 80ms/step - loss: 0.4928 - accuracy: 0.7943 - f1: 0.8063\n",
      "Epoch 34/100\n",
      "6/6 [==============================] - 0s 79ms/step - loss: 0.4599 - accuracy: 0.8243 - f1: 0.8425\n",
      "Epoch 35/100\n",
      "6/6 [==============================] - 0s 79ms/step - loss: 0.4439 - accuracy: 0.8123 - f1: 0.8219\n",
      "Epoch 36/100\n",
      "6/6 [==============================] - 0s 79ms/step - loss: 0.4522 - accuracy: 0.8123 - f1: 0.8321\n",
      "Epoch 37/100\n",
      "6/6 [==============================] - 0s 79ms/step - loss: 0.4593 - accuracy: 0.8078 - f1: 0.7823\n",
      "Epoch 38/100\n",
      "6/6 [==============================] - 0s 79ms/step - loss: 0.4464 - accuracy: 0.8183 - f1: 0.7965\n",
      "Epoch 39/100\n",
      "6/6 [==============================] - 0s 80ms/step - loss: 0.4187 - accuracy: 0.8168 - f1: 0.8207\n",
      "Epoch 40/100\n",
      "6/6 [==============================] - 0s 79ms/step - loss: 0.4463 - accuracy: 0.7898 - f1: 0.8024\n",
      "Epoch 41/100\n",
      "6/6 [==============================] - 0s 79ms/step - loss: 0.4130 - accuracy: 0.8093 - f1: 0.8142\n",
      "Epoch 42/100\n",
      "6/6 [==============================] - 0s 80ms/step - loss: 0.4076 - accuracy: 0.8168 - f1: 0.8105\n",
      "Epoch 43/100\n",
      "6/6 [==============================] - 0s 79ms/step - loss: 0.4115 - accuracy: 0.8243 - f1: 0.8221\n",
      "Epoch 44/100\n",
      "6/6 [==============================] - 0s 81ms/step - loss: 0.4070 - accuracy: 0.8228 - f1: 0.8004\n",
      "Epoch 45/100\n",
      "6/6 [==============================] - 1s 83ms/step - loss: 0.3899 - accuracy: 0.8123 - f1: 0.8168\n",
      "Epoch 46/100\n",
      "6/6 [==============================] - 1s 83ms/step - loss: 0.3693 - accuracy: 0.8318 - f1: 0.8235\n",
      "Epoch 47/100\n",
      "6/6 [==============================] - 1s 83ms/step - loss: 0.3605 - accuracy: 0.8273 - f1: 0.8247\n",
      "Epoch 48/100\n",
      "6/6 [==============================] - 0s 80ms/step - loss: 0.3640 - accuracy: 0.8378 - f1: 0.8287\n",
      "Epoch 49/100\n",
      "6/6 [==============================] - 0s 79ms/step - loss: 0.3965 - accuracy: 0.8303 - f1: 0.8273\n",
      "Epoch 50/100\n",
      "6/6 [==============================] - 0s 80ms/step - loss: 0.3406 - accuracy: 0.8363 - f1: 0.8223\n",
      "Epoch 51/100\n",
      "6/6 [==============================] - 0s 79ms/step - loss: 0.3480 - accuracy: 0.8333 - f1: 0.8401\n",
      "Epoch 52/100\n",
      "6/6 [==============================] - 0s 80ms/step - loss: 0.3607 - accuracy: 0.8243 - f1: 0.8272\n",
      "Epoch 53/100\n",
      "6/6 [==============================] - 0s 80ms/step - loss: 0.3476 - accuracy: 0.8378 - f1: 0.8338\n",
      "Epoch 54/100\n",
      "6/6 [==============================] - 0s 80ms/step - loss: 0.3673 - accuracy: 0.8438 - f1: 0.8339\n",
      "Epoch 55/100\n",
      "6/6 [==============================] - 0s 80ms/step - loss: 0.3563 - accuracy: 0.8303 - f1: 0.8069\n",
      "Epoch 56/100\n",
      "6/6 [==============================] - 0s 79ms/step - loss: 0.3782 - accuracy: 0.8213 - f1: 0.7889\n",
      "Epoch 57/100\n",
      "6/6 [==============================] - 0s 79ms/step - loss: 0.3703 - accuracy: 0.8213 - f1: 0.8297\n",
      "Epoch 58/100\n",
      "6/6 [==============================] - 0s 81ms/step - loss: 0.3434 - accuracy: 0.8243 - f1: 0.8323\n",
      "Epoch 59/100\n",
      "6/6 [==============================] - 0s 79ms/step - loss: 0.3899 - accuracy: 0.8093 - f1: 0.7938\n",
      "Epoch 60/100\n",
      "6/6 [==============================] - 0s 81ms/step - loss: 0.3341 - accuracy: 0.8363 - f1: 0.8274\n",
      "Epoch 61/100\n",
      "6/6 [==============================] - 0s 80ms/step - loss: 0.3466 - accuracy: 0.8198 - f1: 0.8233\n",
      "Epoch 62/100\n",
      "6/6 [==============================] - 0s 80ms/step - loss: 0.3576 - accuracy: 0.8453 - f1: 0.8506\n",
      "Epoch 63/100\n",
      "6/6 [==============================] - 0s 80ms/step - loss: 0.3872 - accuracy: 0.8288 - f1: 0.8209\n",
      "Epoch 64/100\n",
      "6/6 [==============================] - 0s 80ms/step - loss: 0.3499 - accuracy: 0.8318 - f1: 0.8286\n",
      "Epoch 65/100\n",
      "6/6 [==============================] - 0s 80ms/step - loss: 0.3393 - accuracy: 0.8514 - f1: 0.8558\n",
      "Epoch 66/100\n",
      "6/6 [==============================] - 0s 80ms/step - loss: 0.3507 - accuracy: 0.8123 - f1: 0.7810\n",
      "Epoch 67/100\n",
      "6/6 [==============================] - 0s 80ms/step - loss: 0.3505 - accuracy: 0.8408 - f1: 0.8415\n",
      "Epoch 68/100\n",
      "6/6 [==============================] - 0s 80ms/step - loss: 0.3307 - accuracy: 0.8423 - f1: 0.8377\n",
      "Epoch 69/100\n",
      "6/6 [==============================] - 0s 80ms/step - loss: 0.3171 - accuracy: 0.8529 - f1: 0.8417\n",
      "Epoch 70/100\n",
      "6/6 [==============================] - 0s 81ms/step - loss: 0.3237 - accuracy: 0.8393 - f1: 0.8351\n",
      "Epoch 71/100\n",
      "6/6 [==============================] - 0s 80ms/step - loss: 0.3249 - accuracy: 0.8303 - f1: 0.8222\n",
      "Epoch 72/100\n",
      "6/6 [==============================] - 0s 80ms/step - loss: 0.3075 - accuracy: 0.8408 - f1: 0.8364\n",
      "Epoch 73/100\n",
      "6/6 [==============================] - 0s 80ms/step - loss: 0.3085 - accuracy: 0.8468 - f1: 0.8519\n",
      "Epoch 74/100\n",
      "6/6 [==============================] - 0s 80ms/step - loss: 0.3028 - accuracy: 0.8529 - f1: 0.8417\n",
      "Epoch 75/100\n",
      "6/6 [==============================] - 0s 80ms/step - loss: 0.3127 - accuracy: 0.8649 - f1: 0.8573\n",
      "Epoch 76/100\n",
      "6/6 [==============================] - 0s 80ms/step - loss: 0.3355 - accuracy: 0.8453 - f1: 0.8301\n",
      "Epoch 77/100\n",
      "6/6 [==============================] - 1s 81ms/step - loss: 0.3367 - accuracy: 0.8438 - f1: 0.8339\n",
      "Epoch 78/100\n",
      "6/6 [==============================] - 0s 82ms/step - loss: 0.3214 - accuracy: 0.8498 - f1: 0.8494\n",
      "Epoch 79/100\n",
      "6/6 [==============================] - 0s 81ms/step - loss: 0.3072 - accuracy: 0.8468 - f1: 0.8263\n",
      "Epoch 80/100\n",
      "6/6 [==============================] - 0s 81ms/step - loss: 0.3292 - accuracy: 0.8544 - f1: 0.8482\n",
      "Epoch 81/100\n",
      "6/6 [==============================] - 0s 80ms/step - loss: 0.3071 - accuracy: 0.8574 - f1: 0.8508\n",
      "Epoch 82/100\n",
      "6/6 [==============================] - 0s 82ms/step - loss: 0.2943 - accuracy: 0.8649 - f1: 0.8726\n",
      "Epoch 83/100\n",
      "6/6 [==============================] - 0s 82ms/step - loss: 0.2771 - accuracy: 0.8769 - f1: 0.8626\n",
      "Epoch 84/100\n",
      "6/6 [==============================] - 0s 81ms/step - loss: 0.2802 - accuracy: 0.8649 - f1: 0.8522\n",
      "Epoch 85/100\n",
      "6/6 [==============================] - 0s 80ms/step - loss: 0.2696 - accuracy: 0.8904 - f1: 0.8896\n",
      "Epoch 86/100\n",
      "6/6 [==============================] - 0s 80ms/step - loss: 0.2891 - accuracy: 0.8754 - f1: 0.8715\n",
      "Epoch 87/100\n",
      "6/6 [==============================] - 0s 80ms/step - loss: 0.2845 - accuracy: 0.8754 - f1: 0.8511\n",
      "Epoch 88/100\n",
      "6/6 [==============================] - 0s 80ms/step - loss: 0.3087 - accuracy: 0.8514 - f1: 0.8507\n",
      "Epoch 89/100\n",
      "6/6 [==============================] - 0s 80ms/step - loss: 0.2787 - accuracy: 0.8679 - f1: 0.8599\n",
      "Epoch 90/100\n",
      "6/6 [==============================] - 0s 80ms/step - loss: 0.2534 - accuracy: 0.8724 - f1: 0.8689\n",
      "Epoch 91/100\n",
      "6/6 [==============================] - 0s 81ms/step - loss: 0.3056 - accuracy: 0.8664 - f1: 0.8330\n",
      "Epoch 92/100\n",
      "6/6 [==============================] - 0s 81ms/step - loss: 0.3150 - accuracy: 0.8529 - f1: 0.8520\n",
      "Epoch 93/100\n",
      "6/6 [==============================] - 0s 81ms/step - loss: 0.2947 - accuracy: 0.8619 - f1: 0.8547\n",
      "Epoch 94/100\n",
      "6/6 [==============================] - 0s 81ms/step - loss: 0.2847 - accuracy: 0.8739 - f1: 0.8600\n",
      "Epoch 95/100\n",
      "6/6 [==============================] - 0s 82ms/step - loss: 0.2641 - accuracy: 0.8679 - f1: 0.8497\n",
      "Epoch 96/100\n",
      "6/6 [==============================] - 0s 81ms/step - loss: 0.2677 - accuracy: 0.8724 - f1: 0.8536\n",
      "Epoch 97/100\n",
      "6/6 [==============================] - 0s 80ms/step - loss: 0.2836 - accuracy: 0.8709 - f1: 0.8676\n",
      "Epoch 98/100\n",
      "6/6 [==============================] - 0s 81ms/step - loss: 0.2652 - accuracy: 0.8724 - f1: 0.8536\n",
      "Epoch 99/100\n",
      "6/6 [==============================] - 0s 80ms/step - loss: 0.2830 - accuracy: 0.8739 - f1: 0.8498\n",
      "Epoch 100/100\n",
      "6/6 [==============================] - 0s 80ms/step - loss: 0.2947 - accuracy: 0.8679 - f1: 0.8599\n"
     ]
    }
   ],
   "source": [
    "# Model 2\n",
    "model2 = Sequential()\n",
    "model2.add(Conv1D(128, 4, activation='relu', input_shape=(1015,1),kernel_regularizer=regularizers.l1_l2(l1=1e-5, l2=1e-4))) # 32 neurons\n",
    "model2.add(Conv1D(128, 4, activation='relu', bias_regularizer=regularizers.l2(1e-4))) # 32 neurons\n",
    "model2.add(BatchNormalization())\n",
    "model2.add(Activation('relu'))\n",
    "model2.add(MaxPooling1D())\n",
    "model2.add(Dropout(0.25))\n",
    "model2.add(Conv1D(256, 2, activation='relu', kernel_regularizer=regularizers.l1_l2(l1=1e-5, l2=1e-4))) # 64 neurons\n",
    "model2.add(Conv1D(256, 2, activation='relu', bias_regularizer=regularizers.l2(1e-4))) # 64 neurons\n",
    "model2.add(BatchNormalization())\n",
    "model2.add(Activation('relu'))\n",
    "model2.add(MaxPooling1D())\n",
    "model2.add(Dropout(0.25))\n",
    "model2.add(Flatten())\n",
    "model2.add(Dense(256, activation = 'relu', use_bias=False))\n",
    "model2.add(BatchNormalization())\n",
    "model2.add(Activation('relu'))\n",
    "model2.add(Dense(128, activation = 'relu', use_bias=False))\n",
    "model2.add(BatchNormalization())\n",
    "model2.add(Activation('relu'))\n",
    "model2.add(Dense(64, activation = 'relu', use_bias=False))\n",
    "model2.add(BatchNormalization())\n",
    "model2.add(Activation('relu'))\n",
    "model2.add(Dropout(0.25))\n",
    "model2.add(Dense(2, activation = 'softmax'))\n",
    "model2.summary()\n",
    "model2.compile(loss='categorical_crossentropy', optimizer='adam', metrics=['accuracy', f1])\n",
    "model2_hist = model2.fit(X_train, y_train, batch_size=128, epochs=100, verbose=1)"
   ]
  },
  {
   "cell_type": "code",
   "execution_count": 56,
   "metadata": {
    "colab": {
     "base_uri": "https://localhost:8080/"
    },
    "id": "SgpZ5jdRxXB7",
    "outputId": "7dc9eff6-730c-4837-a5c2-54dc3562f12a"
   },
   "outputs": [
    {
     "name": "stdout",
     "output_type": "stream",
     "text": [
      "7/7 [==============================] - 0s 13ms/step - loss: 0.3861 - accuracy: 0.7838 - f1: 0.7848\n",
      "Loss: 0.3861449360847473  Accuracy: 0.7837837934494019  F1 : 0.7848213911056519\n",
      "7/7 [==============================] - 0s 11ms/step\n",
      "[0.5 0.5] [0.48 0.52]\n",
      "[35272.511719 35374.390625 35201.835938 ... 33828.355469 33551.273438\n",
      " 33914.472656]\n"
     ]
    }
   ],
   "source": [
    "acc = model2.evaluate(X_test, y_test)\n",
    "print(\"Loss:\", acc[0], \" Accuracy:\", acc[1], \" F1 :\", acc[2])\n",
    "pred = model2.predict(X_test)\n",
    "print(np.round(pred,2)[0], np.round(pred,2)[1])\n",
    "print(X_test[22])\n",
    "#model2.save(\"3.h5\")"
   ]
  },
  {
   "cell_type": "code",
   "execution_count": 57,
   "metadata": {
    "colab": {
     "base_uri": "https://localhost:8080/",
     "height": 295
    },
    "id": "d7AiZF7pxXFg",
    "outputId": "eb9d6e28-2e67-4e4a-c584-8ffdcfde304a"
   },
   "outputs": [
    {
     "data": {
      "image/png": "[encoded data removed]",
      "text/plain": [
       "<Figure size 432x288 with 1 Axes>"
      ]
     },
     "metadata": {
      "needs_background": "light"
     },
     "output_type": "display_data"
    }
   ],
   "source": [
    "loss, accuracy, f1  = model2.evaluate(X_test, y_test, verbose=False)\n",
    "\n",
    "plt.plot(model2_hist.history['accuracy'])\n",
    "plt.title('model 2  - accuracy from epoch')\n",
    "plt.ylabel('accuracy')\n",
    "plt.xlabel('epoch')\n",
    "plt.legend(['training', 'validation'], loc='best')\n",
    "plt.show()"
   ]
  },
  {
   "cell_type": "code",
   "execution_count": 59,
   "metadata": {
    "colab": {
     "base_uri": "https://localhost:8080/"
    },
    "id": "HltrvdbX6T_L",
    "outputId": "ddc22298-6663-45f2-f3ea-1beb23fc7e9e"
   },
   "outputs": [
    {
     "name": "stdout",
     "output_type": "stream",
     "text": [
      "CatBoost F1 Score 0.9184549356223176\n",
      "CatBoost Accuracy 0.9144144144144144\n"
     ]
    }
   ],
   "source": [
    "from catboost import CatBoostClassifier\n",
    "from sklearn.metrics import f1_score, accuracy_score\n",
    "model_catboost = CatBoostClassifier(verbose=False)\n",
    "model_catboost.fit(X_train, y_train_labels)\n",
    "print(f'CatBoost F1 Score {f1_score(y_test_labels, model_catboost.predict(X_test))}')\n",
    "print(f'CatBoost Accuracy {accuracy_score(y_test_labels, model_catboost.predict(X_test))}')"
   ]
  },
  {
   "cell_type": "code",
   "execution_count": null,
   "metadata": {
    "id": "UTD2vxEdx53z"
   },
   "outputs": [],
   "source": [
    "!pip install tsmoothie"
   ]
  },
  {
   "cell_type": "code",
   "execution_count": 67,
   "metadata": {
    "colab": {
     "base_uri": "https://localhost:8080/"
    },
    "id": "ZqLYqeCNKLeL",
    "outputId": "a55a736b-7359-4068-bb57-2f8a8d991a80"
   },
   "outputs": [
    {
     "name": "stdout",
     "output_type": "stream",
     "text": [
      "Total amount of train measurements: (666, 1015)\n",
      "Total amount of train labels: (666, 2)\n",
      "Total amount of test measurements: (222, 1015)\n",
      "Total amount of test labels: (222, 2)\n"
     ]
    }
   ],
   "source": [
    "X_train, X_test, y_train, y_test = train_test_split(X, y, test_size=0.25, random_state=42)\n",
    "print(f'Total amount of train measurements: {X_train.shape}')\n",
    "print(f'Total amount of train labels: {y_train.shape}')\n",
    "print(f'Total amount of test measurements: {X_test.shape}')\n",
    "print(f'Total amount of test labels: {y_test.shape}')\n",
    "y_train_labels = np.argmax(y_train, axis=1)\n",
    "y_test_labels = np.argmax(y_test, axis=1)"
   ]
  },
  {
   "cell_type": "code",
   "execution_count": 68,
   "metadata": {
    "colab": {
     "base_uri": "https://localhost:8080/",
     "height": 391
    },
    "id": "Pxf4WCX6J4YS",
    "outputId": "cd89075f-bbda-4789-ddc9-05f9111c39b5"
   },
   "outputs": [
    {
     "data": {
      "text/plain": [
       "<matplotlib.collections.PolyCollection at 0x7efa59dbaf70>"
      ]
     },
     "execution_count": 68,
     "metadata": {},
     "output_type": "execute_result"
    },
    {
     "data": {
      "image/png": "[encoded data removed]",
      "text/plain": [
       "<Figure size 792x432 with 1 Axes>"
      ]
     },
     "metadata": {
      "needs_background": "light"
     },
     "output_type": "display_data"
    }
   ],
   "source": [
    "import numpy as np\n",
    "import matplotlib.pyplot as plt\n",
    "from tsmoothie.smoother import *\n",
    "\n",
    "# operate smoothing\n",
    "smoother = ConvolutionSmoother(window_len=30, window_type='ones')\n",
    "smoother.smooth(X_train)\n",
    "\n",
    "# generate intervals\n",
    "low, up = smoother.get_intervals('sigma_interval', n_sigma=3)\n",
    "\n",
    "plt.figure(figsize=(11,6))\n",
    "plt.plot(smoother.data[20], color='orange')\n",
    "plt.plot(smoother.smooth_data[20], linewidth=3, color='blue')\n",
    "plt.fill_between(range(len(smoother.data[20])), low[20], up[20], alpha=0.3)"
   ]
  },
  {
   "cell_type": "code",
   "execution_count": 69,
   "metadata": {
    "id": "0bd6GKDAJ4av"
   },
   "outputs": [],
   "source": [
    "# operate smoothing\n",
    "smoother = ConvolutionSmoother(window_len=30, window_type='ones')\n",
    "smoother.smooth(X_train)\n",
    "X_train = smoother.smooth_data"
   ]
  },
  {
   "cell_type": "code",
   "execution_count": 70,
   "metadata": {
    "colab": {
     "base_uri": "https://localhost:8080/",
     "height": 282
    },
    "id": "p7UN3xG-J4fB",
    "outputId": "31dc2d50-253b-410d-d737-4fab35395b41"
   },
   "outputs": [
    {
     "data": {
      "text/plain": [
       "[<matplotlib.lines.Line2D at 0x7efa59d305b0>]"
      ]
     },
     "execution_count": 70,
     "metadata": {},
     "output_type": "execute_result"
    },
    {
     "data": {
      "image/png": "[encoded data removed]",
      "text/plain": [
       "<Figure size 432x288 with 1 Axes>"
      ]
     },
     "metadata": {
      "needs_background": "light"
     },
     "output_type": "display_data"
    }
   ],
   "source": [
    "plt.plot(X_train[20])"
   ]
  },
  {
   "cell_type": "code",
   "execution_count": 59,
   "metadata": {
    "id": "4r6AcY9tLIEy"
   },
   "outputs": [],
   "source": [
    "from keras import backend as K\n",
    "\n",
    "def recall_m(y_true, y_pred):\n",
    "    true_positives = K.sum(K.round(K.clip(y_true * y_pred, 0, 1)))\n",
    "    possible_positives = K.sum(K.round(K.clip(y_true, 0, 1)))\n",
    "    recall = true_positives / (possible_positives + K.epsilon())\n",
    "    return recall\n",
    "\n",
    "def precision_m(y_true, y_pred):\n",
    "    true_positives = K.sum(K.round(K.clip(y_true * y_pred, 0, 1)))\n",
    "    predicted_positives = K.sum(K.round(K.clip(y_pred, 0, 1)))\n",
    "    precision = true_positives / (predicted_positives + K.epsilon())\n",
    "    return precision\n",
    "\n",
    "def f1(y_true, y_pred):\n",
    "    precision = precision_m(y_true, y_pred)\n",
    "    recall = recall_m(y_true, y_pred)\n",
    "    return 2*((precision*recall)/(precision+recall+K.epsilon()))"
   ]
  },
  {
   "cell_type": "code",
   "execution_count": 60,
   "metadata": {
    "colab": {
     "base_uri": "https://localhost:8080/"
    },
    "id": "YjmlCufsJ4id",
    "outputId": "9f16e2f0-738d-42fd-f55f-9a426473531e"
   },
   "outputs": [
    {
     "name": "stdout",
     "output_type": "stream",
     "text": [
      "Model: \"sequential_5\"\n",
      "_________________________________________________________________\n",
      " Layer (type)                Output Shape              Param #   \n",
      "=================================================================\n",
      " conv1d_20 (Conv1D)          (None, 1012, 128)         640       \n",
      "                                                                 \n",
      " conv1d_21 (Conv1D)          (None, 1009, 128)         65664     \n",
      "                                                                 \n",
      " batch_normalization_25 (Bat  (None, 1009, 128)        512       \n",
      " chNormalization)                                                \n",
      "                                                                 \n",
      " activation_25 (Activation)  (None, 1009, 128)         0         \n",
      "                                                                 \n",
      " max_pooling1d_10 (MaxPoolin  (None, 504, 128)         0         \n",
      " g1D)                                                            \n",
      "                                                                 \n",
      " dropout_15 (Dropout)        (None, 504, 128)          0         \n",
      "                                                                 \n",
      " conv1d_22 (Conv1D)          (None, 503, 256)          65792     \n",
      "                                                                 \n",
      " conv1d_23 (Conv1D)          (None, 502, 256)          131328    \n",
      "                                                                 \n",
      " batch_normalization_26 (Bat  (None, 502, 256)         1024      \n",
      " chNormalization)                                                \n",
      "                                                                 \n",
      " activation_26 (Activation)  (None, 502, 256)          0         \n",
      "                                                                 \n",
      " max_pooling1d_11 (MaxPoolin  (None, 251, 256)         0         \n",
      " g1D)                                                            \n",
      "                                                                 \n",
      " dropout_16 (Dropout)        (None, 251, 256)          0         \n",
      "                                                                 \n",
      " flatten_5 (Flatten)         (None, 64256)             0         \n",
      "                                                                 \n",
      " dense_20 (Dense)            (None, 256)               16449536  \n",
      "                                                                 \n",
      " batch_normalization_27 (Bat  (None, 256)              1024      \n",
      " chNormalization)                                                \n",
      "                                                                 \n",
      " activation_27 (Activation)  (None, 256)               0         \n",
      "                                                                 \n",
      " dense_21 (Dense)            (None, 128)               32768     \n",
      "                                                                 \n",
      " batch_normalization_28 (Bat  (None, 128)              512       \n",
      " chNormalization)                                                \n",
      "                                                                 \n",
      " activation_28 (Activation)  (None, 128)               0         \n",
      "                                                                 \n",
      " dense_22 (Dense)            (None, 64)                8192      \n",
      "                                                                 \n",
      " batch_normalization_29 (Bat  (None, 64)               256       \n",
      " chNormalization)                                                \n",
      "                                                                 \n",
      " activation_29 (Activation)  (None, 64)                0         \n",
      "                                                                 \n",
      " dropout_17 (Dropout)        (None, 64)                0         \n",
      "                                                                 \n",
      " dense_23 (Dense)            (None, 2)                 130       \n",
      "                                                                 \n",
      "=================================================================\n",
      "Total params: 16,757,378\n",
      "Trainable params: 16,755,714\n",
      "Non-trainable params: 1,664\n",
      "_________________________________________________________________\n",
      "Epoch 1/100\n",
      "6/6 [==============================] - 2s 85ms/step - loss: 0.8094 - accuracy: 0.5255 - f1: 0.5009\n",
      "Epoch 2/100\n",
      "6/6 [==============================] - 1s 84ms/step - loss: 0.7125 - accuracy: 0.6246 - f1: 0.6336\n",
      "Epoch 3/100\n",
      "6/6 [==============================] - 1s 84ms/step - loss: 0.6738 - accuracy: 0.6667 - f1: 0.6445\n",
      "Epoch 4/100\n",
      "6/6 [==============================] - 1s 83ms/step - loss: 0.6122 - accuracy: 0.7417 - f1: 0.7301\n",
      "Epoch 5/100\n",
      "6/6 [==============================] - 1s 85ms/step - loss: 0.6020 - accuracy: 0.7387 - f1: 0.7479\n",
      "Epoch 6/100\n",
      "6/6 [==============================] - 1s 83ms/step - loss: 0.5946 - accuracy: 0.7252 - f1: 0.7106\n",
      "Epoch 7/100\n",
      "6/6 [==============================] - 1s 86ms/step - loss: 0.5734 - accuracy: 0.7417 - f1: 0.7352\n",
      "Epoch 8/100\n",
      "6/6 [==============================] - 1s 83ms/step - loss: 0.6255 - accuracy: 0.7147 - f1: 0.6964\n",
      "Epoch 9/100\n",
      "6/6 [==============================] - 1s 84ms/step - loss: 0.5782 - accuracy: 0.7417 - f1: 0.7454\n",
      "Epoch 10/100\n",
      "6/6 [==============================] - 1s 84ms/step - loss: 0.5612 - accuracy: 0.7613 - f1: 0.7776\n",
      "Epoch 11/100\n",
      "6/6 [==============================] - 1s 84ms/step - loss: 0.5725 - accuracy: 0.7327 - f1: 0.7427\n",
      "Epoch 12/100\n",
      "6/6 [==============================] - 1s 85ms/step - loss: 0.5507 - accuracy: 0.7553 - f1: 0.7469\n",
      "Epoch 13/100\n",
      "6/6 [==============================] - 1s 84ms/step - loss: 0.5459 - accuracy: 0.7598 - f1: 0.7610\n",
      "Epoch 14/100\n",
      "6/6 [==============================] - 1s 84ms/step - loss: 0.5849 - accuracy: 0.7282 - f1: 0.7132\n",
      "Epoch 15/100\n",
      "6/6 [==============================] - 1s 85ms/step - loss: 0.5295 - accuracy: 0.7778 - f1: 0.7766\n",
      "Epoch 16/100\n",
      "6/6 [==============================] - 1s 85ms/step - loss: 0.5590 - accuracy: 0.7643 - f1: 0.7700\n",
      "Epoch 17/100\n",
      "6/6 [==============================] - 1s 85ms/step - loss: 0.5416 - accuracy: 0.7703 - f1: 0.7906\n",
      "Epoch 18/100\n",
      "6/6 [==============================] - 1s 84ms/step - loss: 0.5222 - accuracy: 0.7853 - f1: 0.7883\n",
      "Epoch 19/100\n",
      "6/6 [==============================] - 1s 85ms/step - loss: 0.5514 - accuracy: 0.7748 - f1: 0.7740\n",
      "Epoch 20/100\n",
      "6/6 [==============================] - 1s 86ms/step - loss: 0.5736 - accuracy: 0.7538 - f1: 0.7711\n",
      "Epoch 21/100\n",
      "6/6 [==============================] - 1s 86ms/step - loss: 0.5146 - accuracy: 0.7718 - f1: 0.7306\n",
      "Epoch 22/100\n",
      "6/6 [==============================] - 1s 86ms/step - loss: 0.5241 - accuracy: 0.7492 - f1: 0.7570\n",
      "Epoch 23/100\n",
      "6/6 [==============================] - 1s 85ms/step - loss: 0.5410 - accuracy: 0.7402 - f1: 0.7492\n",
      "Epoch 24/100\n",
      "6/6 [==============================] - 1s 86ms/step - loss: 0.5396 - accuracy: 0.7523 - f1: 0.7800\n",
      "Epoch 25/100\n",
      "6/6 [==============================] - 1s 84ms/step - loss: 0.5539 - accuracy: 0.7492 - f1: 0.7570\n",
      "Epoch 26/100\n",
      "6/6 [==============================] - 1s 86ms/step - loss: 0.5405 - accuracy: 0.7417 - f1: 0.7199\n",
      "Epoch 27/100\n",
      "6/6 [==============================] - 1s 85ms/step - loss: 0.5233 - accuracy: 0.7733 - f1: 0.7676\n",
      "Epoch 28/100\n",
      "6/6 [==============================] - 1s 86ms/step - loss: 0.5579 - accuracy: 0.7508 - f1: 0.7379\n",
      "Epoch 29/100\n",
      "6/6 [==============================] - 1s 84ms/step - loss: 0.5570 - accuracy: 0.7658 - f1: 0.7254\n",
      "Epoch 30/100\n",
      "6/6 [==============================] - 1s 85ms/step - loss: 0.5180 - accuracy: 0.7808 - f1: 0.7946\n",
      "Epoch 31/100\n",
      "6/6 [==============================] - 1s 86ms/step - loss: 0.5305 - accuracy: 0.7628 - f1: 0.7892\n",
      "Epoch 32/100\n",
      "6/6 [==============================] - 1s 89ms/step - loss: 0.5394 - accuracy: 0.7417 - f1: 0.7352\n",
      "Epoch 33/100\n",
      "6/6 [==============================] - 1s 88ms/step - loss: 0.5910 - accuracy: 0.7402 - f1: 0.7237\n",
      "Epoch 34/100\n",
      "6/6 [==============================] - 1s 91ms/step - loss: 0.5285 - accuracy: 0.7417 - f1: 0.7250\n",
      "Epoch 35/100\n",
      "6/6 [==============================] - 1s 88ms/step - loss: 0.5253 - accuracy: 0.7342 - f1: 0.7338\n",
      "Epoch 36/100\n",
      "6/6 [==============================] - 1s 92ms/step - loss: 0.5361 - accuracy: 0.7733 - f1: 0.7778\n",
      "Epoch 37/100\n",
      "6/6 [==============================] - 1s 84ms/step - loss: 0.5420 - accuracy: 0.7568 - f1: 0.7533\n",
      "Epoch 38/100\n",
      "6/6 [==============================] - 1s 91ms/step - loss: 0.5150 - accuracy: 0.7733 - f1: 0.7676\n",
      "Epoch 39/100\n",
      "6/6 [==============================] - 1s 89ms/step - loss: 0.5051 - accuracy: 0.7838 - f1: 0.7767\n",
      "Epoch 40/100\n",
      "6/6 [==============================] - 1s 85ms/step - loss: 0.5134 - accuracy: 0.7733 - f1: 0.7881\n",
      "Epoch 41/100\n",
      "6/6 [==============================] - 1s 84ms/step - loss: 0.5003 - accuracy: 0.7958 - f1: 0.7872\n",
      "Epoch 42/100\n",
      "6/6 [==============================] - 1s 84ms/step - loss: 0.5302 - accuracy: 0.7658 - f1: 0.7713\n",
      "Epoch 43/100\n",
      "6/6 [==============================] - 1s 84ms/step - loss: 0.5191 - accuracy: 0.7673 - f1: 0.7522\n",
      "Epoch 44/100\n",
      "6/6 [==============================] - 1s 84ms/step - loss: 0.5062 - accuracy: 0.8003 - f1: 0.7757\n",
      "Epoch 45/100\n",
      "6/6 [==============================] - 1s 84ms/step - loss: 0.4907 - accuracy: 0.7973 - f1: 0.7885\n",
      "Epoch 46/100\n",
      "6/6 [==============================] - 1s 84ms/step - loss: 0.4952 - accuracy: 0.7943 - f1: 0.7910\n",
      "Epoch 47/100\n",
      "6/6 [==============================] - 1s 84ms/step - loss: 0.4974 - accuracy: 0.7928 - f1: 0.7794\n",
      "Epoch 48/100\n",
      "6/6 [==============================] - 1s 83ms/step - loss: 0.5327 - accuracy: 0.7477 - f1: 0.7404\n",
      "Epoch 49/100\n",
      "6/6 [==============================] - 1s 84ms/step - loss: 0.5298 - accuracy: 0.7748 - f1: 0.7791\n",
      "Epoch 50/100\n",
      "6/6 [==============================] - 1s 85ms/step - loss: 0.5196 - accuracy: 0.7643 - f1: 0.7700\n",
      "Epoch 51/100\n",
      "6/6 [==============================] - 1s 84ms/step - loss: 0.5319 - accuracy: 0.7447 - f1: 0.7378\n",
      "Epoch 52/100\n",
      "6/6 [==============================] - 1s 84ms/step - loss: 0.5418 - accuracy: 0.7673 - f1: 0.7777\n",
      "Epoch 53/100\n",
      "6/6 [==============================] - 1s 84ms/step - loss: 0.5407 - accuracy: 0.7628 - f1: 0.7534\n",
      "Epoch 54/100\n",
      "6/6 [==============================] - 1s 82ms/step - loss: 0.5046 - accuracy: 0.7853 - f1: 0.8087\n",
      "Epoch 55/100\n",
      "6/6 [==============================] - 1s 83ms/step - loss: 0.5374 - accuracy: 0.7718 - f1: 0.7663\n",
      "Epoch 56/100\n",
      "6/6 [==============================] - 1s 83ms/step - loss: 0.5079 - accuracy: 0.7793 - f1: 0.7831\n",
      "Epoch 57/100\n",
      "6/6 [==============================] - 1s 84ms/step - loss: 0.4952 - accuracy: 0.7883 - f1: 0.7653\n",
      "Epoch 58/100\n",
      "6/6 [==============================] - 1s 83ms/step - loss: 0.4738 - accuracy: 0.8033 - f1: 0.8192\n",
      "Epoch 59/100\n",
      "6/6 [==============================] - 1s 83ms/step - loss: 0.4898 - accuracy: 0.7913 - f1: 0.7935\n",
      "Epoch 60/100\n",
      "6/6 [==============================] - 1s 93ms/step - loss: 0.4881 - accuracy: 0.7898 - f1: 0.7922\n",
      "Epoch 61/100\n",
      "6/6 [==============================] - 1s 90ms/step - loss: 0.4832 - accuracy: 0.7883 - f1: 0.8011\n",
      "Epoch 62/100\n",
      "6/6 [==============================] - 1s 100ms/step - loss: 0.4521 - accuracy: 0.8108 - f1: 0.7849\n",
      "Epoch 63/100\n",
      "6/6 [==============================] - 1s 90ms/step - loss: 0.4581 - accuracy: 0.7988 - f1: 0.7489\n",
      "Epoch 64/100\n",
      "6/6 [==============================] - 1s 91ms/step - loss: 0.4287 - accuracy: 0.8123 - f1: 0.8066\n",
      "Epoch 65/100\n",
      "6/6 [==============================] - 1s 89ms/step - loss: 0.4371 - accuracy: 0.8168 - f1: 0.8156\n",
      "Epoch 66/100\n",
      "6/6 [==============================] - 1s 91ms/step - loss: 0.4118 - accuracy: 0.8213 - f1: 0.8144\n",
      "Epoch 67/100\n",
      "6/6 [==============================] - 1s 92ms/step - loss: 0.4063 - accuracy: 0.8198 - f1: 0.8182\n",
      "Epoch 68/100\n",
      "6/6 [==============================] - 1s 86ms/step - loss: 0.4137 - accuracy: 0.8213 - f1: 0.8144\n",
      "Epoch 69/100\n",
      "6/6 [==============================] - 1s 92ms/step - loss: 0.4043 - accuracy: 0.8168 - f1: 0.8054\n",
      "Epoch 70/100\n",
      "6/6 [==============================] - 1s 89ms/step - loss: 0.3961 - accuracy: 0.8318 - f1: 0.8440\n",
      "Epoch 71/100\n",
      "6/6 [==============================] - 1s 90ms/step - loss: 0.4150 - accuracy: 0.8258 - f1: 0.8183\n",
      "Epoch 72/100\n",
      "6/6 [==============================] - 1s 93ms/step - loss: 0.3700 - accuracy: 0.8333 - f1: 0.8299\n",
      "Epoch 73/100\n",
      "6/6 [==============================] - 1s 94ms/step - loss: 0.3700 - accuracy: 0.8348 - f1: 0.8057\n",
      "Epoch 74/100\n",
      "6/6 [==============================] - 1s 88ms/step - loss: 0.3841 - accuracy: 0.8273 - f1: 0.8298\n",
      "Epoch 75/100\n",
      "6/6 [==============================] - 1s 87ms/step - loss: 0.3669 - accuracy: 0.8243 - f1: 0.8221\n",
      "Epoch 76/100\n",
      "6/6 [==============================] - 1s 87ms/step - loss: 0.3936 - accuracy: 0.8198 - f1: 0.8284\n",
      "Epoch 77/100\n",
      "6/6 [==============================] - 1s 82ms/step - loss: 0.3715 - accuracy: 0.8318 - f1: 0.8184\n",
      "Epoch 78/100\n",
      "6/6 [==============================] - 1s 88ms/step - loss: 0.3348 - accuracy: 0.8333 - f1: 0.8401\n",
      "Epoch 79/100\n",
      "6/6 [==============================] - 1s 84ms/step - loss: 0.3570 - accuracy: 0.8333 - f1: 0.7993\n",
      "Epoch 80/100\n",
      "6/6 [==============================] - 1s 88ms/step - loss: 0.3250 - accuracy: 0.8468 - f1: 0.8416\n",
      "Epoch 81/100\n",
      "6/6 [==============================] - 1s 88ms/step - loss: 0.3282 - accuracy: 0.8453 - f1: 0.8403\n",
      "Epoch 82/100\n",
      "6/6 [==============================] - 1s 82ms/step - loss: 0.3250 - accuracy: 0.8483 - f1: 0.8378\n",
      "Epoch 83/100\n",
      "6/6 [==============================] - 1s 83ms/step - loss: 0.3553 - accuracy: 0.8303 - f1: 0.8222\n",
      "Epoch 84/100\n",
      "6/6 [==============================] - 1s 82ms/step - loss: 0.3230 - accuracy: 0.8423 - f1: 0.8428\n",
      "Epoch 85/100\n",
      "6/6 [==============================] - 1s 83ms/step - loss: 0.3220 - accuracy: 0.8243 - f1: 0.8221\n",
      "Epoch 86/100\n",
      "6/6 [==============================] - 1s 82ms/step - loss: 0.3271 - accuracy: 0.8514 - f1: 0.8456\n",
      "Epoch 87/100\n",
      "6/6 [==============================] - 1s 83ms/step - loss: 0.2966 - accuracy: 0.8559 - f1: 0.8597\n",
      "Epoch 88/100\n",
      "6/6 [==============================] - 1s 83ms/step - loss: 0.3274 - accuracy: 0.8318 - f1: 0.8184\n",
      "Epoch 89/100\n",
      "6/6 [==============================] - 0s 82ms/step - loss: 0.2910 - accuracy: 0.8544 - f1: 0.8584\n",
      "Epoch 90/100\n",
      "6/6 [==============================] - 1s 83ms/step - loss: 0.3001 - accuracy: 0.8514 - f1: 0.8507\n",
      "Epoch 91/100\n",
      "6/6 [==============================] - 1s 89ms/step - loss: 0.2985 - accuracy: 0.8604 - f1: 0.8585\n",
      "Epoch 92/100\n",
      "6/6 [==============================] - 1s 92ms/step - loss: 0.3108 - accuracy: 0.8634 - f1: 0.8662\n",
      "Epoch 93/100\n",
      "6/6 [==============================] - 1s 89ms/step - loss: 0.2781 - accuracy: 0.8754 - f1: 0.8868\n",
      "Epoch 94/100\n",
      "6/6 [==============================] - 1s 90ms/step - loss: 0.2839 - accuracy: 0.8514 - f1: 0.8507\n",
      "Epoch 95/100\n",
      "6/6 [==============================] - 1s 90ms/step - loss: 0.2820 - accuracy: 0.8529 - f1: 0.8264\n",
      "Epoch 96/100\n",
      "6/6 [==============================] - 1s 89ms/step - loss: 0.2582 - accuracy: 0.8754 - f1: 0.8868\n",
      "Epoch 97/100\n",
      "6/6 [==============================] - 1s 86ms/step - loss: 0.2775 - accuracy: 0.8664 - f1: 0.8739\n",
      "Epoch 98/100\n",
      "6/6 [==============================] - 1s 91ms/step - loss: 0.2804 - accuracy: 0.8664 - f1: 0.8586\n",
      "Epoch 99/100\n",
      "6/6 [==============================] - 1s 86ms/step - loss: 0.2876 - accuracy: 0.8634 - f1: 0.8560\n",
      "Epoch 100/100\n",
      "6/6 [==============================] - 1s 83ms/step - loss: 0.2923 - accuracy: 0.8694 - f1: 0.8663\n"
     ]
    }
   ],
   "source": [
    "# Model 3\n",
    "model3 = Sequential()\n",
    "model3.add(Conv1D(128, 4, activation='relu', input_shape=(1015,1),kernel_regularizer=regularizers.l1_l2(l1=1e-5, l2=1e-4))) # 32 neurons\n",
    "model3.add(Conv1D(128, 4, activation='relu', bias_regularizer=regularizers.l2(1e-4))) # 32 neurons\n",
    "model3.add(BatchNormalization())\n",
    "model3.add(Activation('relu'))\n",
    "model3.add(MaxPooling1D())\n",
    "model3.add(Dropout(0.25))\n",
    "model3.add(Conv1D(256, 2, activation='relu', kernel_regularizer=regularizers.l1_l2(l1=1e-5, l2=1e-4))) # 64 neurons\n",
    "model3.add(Conv1D(256, 2, activation='relu', bias_regularizer=regularizers.l2(1e-4))) # 64 neurons\n",
    "model3.add(BatchNormalization())\n",
    "model3.add(Activation('relu'))\n",
    "model3.add(MaxPooling1D())\n",
    "model3.add(Dropout(0.25))\n",
    "model3.add(Flatten())\n",
    "model3.add(Dense(256, activation = 'relu', use_bias=False))\n",
    "model3.add(BatchNormalization())\n",
    "model3.add(Activation('relu'))\n",
    "model3.add(Dense(128, activation = 'relu', use_bias=False))\n",
    "model3.add(BatchNormalization())\n",
    "model3.add(Activation('relu'))\n",
    "model3.add(Dense(64, activation = 'relu', use_bias=False))\n",
    "model3.add(BatchNormalization())\n",
    "model3.add(Activation('relu'))\n",
    "model3.add(Dropout(0.25))\n",
    "model3.add(Dense(2, activation = 'softmax'))\n",
    "model3.summary()\n",
    "model3.compile(loss='categorical_crossentropy', optimizer='adam', metrics=['accuracy', f1])\n",
    "model3_hist = model3.fit(X_train, y_train, batch_size=128, epochs=100, verbose=1)"
   ]
  },
  {
   "cell_type": "code",
   "execution_count": 61,
   "metadata": {
    "colab": {
     "base_uri": "https://localhost:8080/"
    },
    "id": "mVpd4GDkirgn",
    "outputId": "7d87b1cb-cf32-45f9-d665-877a124b51e4"
   },
   "outputs": [
    {
     "name": "stdout",
     "output_type": "stream",
     "text": [
      "7/7 [==============================] - 0s 14ms/step - loss: 0.5013 - accuracy: 0.8468 - f1: 0.8482\n",
      "Loss: 0.5012955069541931  Accuracy: 0.8468468189239502  F1 : 0.8482142090797424\n",
      "7/7 [==============================] - 0s 10ms/step\n",
      "[0.27 0.73] [0.55 0.45]\n",
      "[35264.61340742 35271.53238423 35263.08505558 ... 33901.75113423\n",
      " 33901.69128039 33897.450605  ]\n"
     ]
    }
   ],
   "source": [
    "acc = model3.evaluate(X_test, y_test)\n",
    "print(\"Loss:\", acc[0], \" Accuracy:\", acc[1], \" F1 :\", acc[2])\n",
    "pred = model3.predict(X_test)\n",
    "print(np.round(pred,2)[0], np.round(pred,2)[1])\n",
    "print(X_test[22])\n",
    "#model3.save(\"3.h5\")"
   ]
  },
  {
   "cell_type": "code",
   "execution_count": 62,
   "metadata": {
    "colab": {
     "base_uri": "https://localhost:8080/",
     "height": 295
    },
    "id": "GvCb01voLNgw",
    "outputId": "76a4bf5a-39fd-4a42-e8a7-4f86cf39cf01"
   },
   "outputs": [
    {
     "data": {
      "image/png": "[encoded data removed]",
      "text/plain": [
       "<Figure size 432x288 with 1 Axes>"
      ]
     },
     "metadata": {
      "needs_background": "light"
     },
     "output_type": "display_data"
    }
   ],
   "source": [
    "loss, accuracy, f1  = model3.evaluate(X_test, y_test, verbose=False)\n",
    "\n",
    "plt.plot(model3_hist.history['accuracy'])\n",
    "plt.title('model 3  - accuracy from epoch')\n",
    "plt.ylabel('accuracy')\n",
    "plt.xlabel('epoch')\n",
    "plt.legend(['training', 'validation'], loc='best')\n",
    "plt.show()"
   ]
  },
  {
   "cell_type": "code",
   "execution_count": 71,
   "metadata": {
    "colab": {
     "base_uri": "https://localhost:8080/"
    },
    "id": "66UGY9rYL3t1",
    "outputId": "ef328162-2163-49f3-8469-e9c30f1282a8"
   },
   "outputs": [
    {
     "name": "stdout",
     "output_type": "stream",
     "text": [
      "CatBoost F1 Score 0.9184549356223176\n",
      "CatBoost Accuracy 0.9144144144144144\n"
     ]
    }
   ],
   "source": [
    "from catboost import CatBoostClassifier\n",
    "model_catboost3 = CatBoostClassifier(verbose=False)\n",
    "model_catboost3.fit(X_train, y_train_labels)\n",
    "print(f'CatBoost F1 Score {f1_score(y_test_labels, model_catboost3.predict(X_test))}')\n",
    "print(f'CatBoost Accuracy {accuracy_score(y_test_labels, model_catboost3.predict(X_test))}')"
   ]
  },
  {
   "cell_type": "markdown",
   "metadata": {
    "id": "54_o-WE-8LRv"
   },
   "source": [
    "---\n",
    "Вывод #2:\n",
    "\n",
    "---\n",
    "Neural Network Train: loss: 0.2720 - accuracy: 0.8754 - f1: 0.8715\n",
    "\n",
    "CatBoost: Accuracy 0.925 F1 Score 0.93\n",
    "\n",
    "---\n",
    "After noise removed Savitzky-Golay filter:\n",
    "\n",
    "---\n",
    "Neural Network Train: loss: 0.2534 - accuracy: 0.8724 - f1: 0.8689\n",
    "\n",
    "CatBoost: Accuracy 0.92 F1 Score 0.91\n",
    "\n",
    "---\n",
    "After noise removed ConvolutionSmoother:\n",
    "\n",
    "---\n",
    "Neural Network Train: loss: loss: 0.2582 - accuracy: 0.8754 - f1: 0.8868\n",
    "\n",
    "CatBoost: Accuracy 0.92 F1 Score 0.91\n",
    "\n",
    "---\n",
    "Сглаживание не дало большого результата"
   ]
  },
  {
   "cell_type": "code",
   "execution_count": null,
   "metadata": {
    "id": "YyhOl3xOHSEH"
   },
   "outputs": [],
   "source": []
  }
 ],
 "metadata": {
  "accelerator": "GPU",
  "colab": {
   "provenance": []
  },
  "gpuClass": "standard",
  "kernelspec": {
   "display_name": "Python 3 (ipykernel)",
   "language": "python",
   "name": "python3"
  },
  "language_info": {
   "codemirror_mode": {
    "name": "ipython",
    "version": 3
   },
   "file_extension": ".py",
   "mimetype": "text/x-python",
   "name": "python",
   "nbconvert_exporter": "python",
   "pygments_lexer": "ipython3",
   "version": "3.9.0"
  }
 },
 "nbformat": 4,
 "nbformat_minor": 4
}
